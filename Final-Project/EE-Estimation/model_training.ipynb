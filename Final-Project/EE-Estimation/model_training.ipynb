{
 "cells": [
  {
   "cell_type": "markdown",
   "metadata": {},
   "source": [
    "# Setup"
   ]
  },
  {
   "cell_type": "code",
   "execution_count": 1,
   "metadata": {},
   "outputs": [],
   "source": [
    "import torch\n",
    "import torch.nn as nn\n",
    "\n",
    "import pickle"
   ]
  },
  {
   "cell_type": "markdown",
   "metadata": {},
   "source": [
    "# Model designs"
   ]
  },
  {
   "cell_type": "markdown",
   "metadata": {},
   "source": [
    "## CNN feature generator"
   ]
  },
  {
   "cell_type": "code",
   "execution_count": 4,
   "metadata": {},
   "outputs": [],
   "source": [
    "class CNNFeatureGenerator(nn.Module):\n",
    "    def __init__(self, num_features):\n",
    "        super(CNNFeatureGenerator, self).__init__()\n",
    "        \n",
    "        self.feature_extractor = nn.Sequential(\n",
    "            nn.Conv1d(in_channels=num_features, out_channels=16, kernel_size=3, stride=1, padding=1),\n",
    "            nn.ReLU(),\n",
    "            nn.MaxPool1d(kernel_size=2, stride=2),\n",
    "            \n",
    "            nn.Conv1d(in_channels=16, out_channels=32, kernel_size=3, stride=1, padding=1),\n",
    "            nn.ReLU(),\n",
    "            nn.MaxPool1d(kernel_size=2, stride=2),\n",
    "            \n",
    "            nn.Conv1d(in_channels=32, out_channels=64, kernel_size=3, stride=1, padding=1),\n",
    "            nn.ReLU(),\n",
    "            nn.AdaptiveAvgPool1d(1)\n",
    "        )\n",
    "    \n",
    "    def forward(self, all_features):\n",
    "        \"\"\"\n",
    "        Forward pass through the feature extractor.\n",
    "\n",
    "        Args:\n",
    "            all_features: Tensor of shape (batch_size, num_features, window_size)\n",
    "\n",
    "        Returns:\n",
    "            Tensor: Extracted features of shape (batch_size, 64)\n",
    "        \"\"\"\n",
    "        features = self.feature_extractor(all_features)\n",
    "        features = features.view(features.size(0), -1)\n",
    "        return features"
   ]
  },
  {
   "cell_type": "markdown",
   "metadata": {},
   "source": [
    "## FCN Regressor"
   ]
  },
  {
   "cell_type": "code",
   "execution_count": null,
   "metadata": {},
   "outputs": [],
   "source": [
    "class FCNRegressor(nn.Module):\n",
    "    def __init__(self, feature_size=64):\n",
    "        super(FCNRegressor, self).__init__()\n",
    "        \n",
    "        self.regressor = nn.Sequential(\n",
    "            nn.Linear(feature_size, 128),\n",
    "            nn.ReLU(),\n",
    "            nn.Dropout(0.5),\n",
    "            nn.Linear(128, 64),\n",
    "            nn.ReLU(),\n",
    "            nn.Linear(64, 1)\n",
    "        )\n",
    "    \n",
    "    def forward(self, cnn_features):\n",
    "        \"\"\"\n",
    "        Forward pass through the FCN regressor.\n",
    "\n",
    "        Args:\n",
    "            cnn_features: Tensor of shape (batch_size, feature_size)\n",
    "\n",
    "        Returns:\n",
    "            Tensor: Predicted energy expenditure (batch_size, 1)\n",
    "        \"\"\"\n",
    "        output = self.regressor(cnn_features)\n",
    "        return output"
   ]
  },
  {
   "cell_type": "markdown",
   "metadata": {},
   "source": [
    "## CNN to FCN Model"
   ]
  },
  {
   "cell_type": "code",
   "execution_count": 8,
   "metadata": {},
   "outputs": [],
   "source": [
    "class CNNFCNRegressor(nn.Module):\n",
    "    def __init__(self, num_features=8):\n",
    "        super(CNNFCNRegressor, self).__init__()\n",
    "        \n",
    "        self.cnn_feature_generator = CNNFeatureGenerator(num_features=num_features)\n",
    "        self.fcn_regressor = FCNRegressor()\n",
    "    \n",
    "    def forward(self, all_features):\n",
    "        \"\"\"\n",
    "        Forward pass through the combined model.\n",
    "\n",
    "        Args:\n",
    "            all_features: Tensor of shape (batch_size, num_features, window_size)\n",
    "\n",
    "        Returns:\n",
    "            Tensor: Predicted energy expenditure (batch_size, 1)\n",
    "        \"\"\"\n",
    "        cnn_features = self.cnn_feature_generator(all_features)  # Extract features with CNN\n",
    "        output = self.fcn_regressor(cnn_features)  # Regress with FCN\n",
    "        return output"
   ]
  },
  {
   "cell_type": "markdown",
   "metadata": {},
   "source": [
    "## LSTM Module"
   ]
  },
  {
   "cell_type": "code",
   "execution_count": 9,
   "metadata": {},
   "outputs": [],
   "source": [
    "class LSTMModule(nn.Module):\n",
    "    def __init__(self, input_size=64, hidden_size=64, num_layers=2):\n",
    "        super(LSTMModule, self).__init__()\n",
    "        self.lstm = nn.LSTM(\n",
    "            input_size=input_size,\n",
    "            hidden_size=hidden_size,\n",
    "            num_layers=num_layers,\n",
    "            batch_first=True,\n",
    "            dropout=0.5\n",
    "        )\n",
    "    \n",
    "    def forward(self, cnn_features):\n",
    "        \"\"\"\n",
    "        Forward pass through the LSTM module.\n",
    "\n",
    "        Args:\n",
    "            cnn_features: Tensor of shape (batch_size, seq_len, input_size)\n",
    "\n",
    "        Returns:\n",
    "            Tensor: Output features from the LSTM (batch_size, hidden_size)\n",
    "        \"\"\"\n",
    "        lstm_out, _ = self.lstm(cnn_features)  # lstm_out: (batch_size, seq_len, hidden_size)\n",
    "        lstm_features = lstm_out[:, -1, :]  # Take the last timestep (batch_size, hidden_size)\n",
    "        return lstm_features"
   ]
  },
  {
   "cell_type": "markdown",
   "metadata": {},
   "source": [
    "## CNN to LSTM to FCN Model"
   ]
  },
  {
   "cell_type": "code",
   "execution_count": null,
   "metadata": {},
   "outputs": [],
   "source": [
    "class CNNLSTMFCNRegressor(nn.Module):\n",
    "    def __init__(self, cnn_input_features=8, lstm_input_size=64, hidden_size=64, num_layers=2):\n",
    "        super(CNNLSTMFCNRegressor, self).__init__()\n",
    "        \n",
    "        self.cnn = CNNFeatureGenerator(num_features=cnn_input_features)\n",
    "        self.lstm = LSTMModule(input_size=lstm_input_size, hidden_size=hidden_size, num_layers=num_layers)\n",
    "        self.fcn = FCNRegressor(feature_size=hidden_size)  # Feature size matches LSTM hidden size\n",
    "    \n",
    "    def forward(self, all_features):\n",
    "        \"\"\"\n",
    "        Forward pass through the CNN-LSTM-FCN regressor.\n",
    "\n",
    "        Args:\n",
    "            all_features: Tensor of shape (batch_size, num_features, window_size)\n",
    "\n",
    "        Returns:\n",
    "            Tensor: Predicted energy expenditure (batch_size, 1)\n",
    "        \"\"\"\n",
    "        cnn_features = self.cnn(all_features)  # Extract features from CNN (batch_size, feature_size)\n",
    "        lstm_input = cnn_features.unsqueeze(1)  # Add temporal dimension (batch_size, seq_len=1, feature_size)\n",
    "        lstm_features = self.lstm(lstm_input)  # Pass through LSTM (batch_size, hidden_size)\n",
    "        output = self.fcn(lstm_features)  # Pass through FCN regressor (batch_size, 1)\n",
    "        return output"
   ]
  }
 ],
 "metadata": {
  "kernelspec": {
   "display_name": "wearable310",
   "language": "python",
   "name": "python3"
  },
  "language_info": {
   "codemirror_mode": {
    "name": "ipython",
    "version": 3
   },
   "file_extension": ".py",
   "mimetype": "text/x-python",
   "name": "python",
   "nbconvert_exporter": "python",
   "pygments_lexer": "ipython3",
   "version": "3.10.15"
  }
 },
 "nbformat": 4,
 "nbformat_minor": 2
}
